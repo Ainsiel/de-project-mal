{
 "cells": [
  {
   "cell_type": "code",
   "execution_count": 0,
   "metadata": {
    "application/vnd.databricks.v1+cell": {
     "cellMetadata": {},
     "inputWidgets": {},
     "nuid": "672ac413-4f0f-4d12-a888-d8f80d3477e5",
     "showTitle": false,
     "title": ""
    }
   },
   "outputs": [],
   "source": [
    "%run \"./reader_factory\""
   ]
  },
  {
   "cell_type": "code",
   "execution_count": 0,
   "metadata": {
    "application/vnd.databricks.v1+cell": {
     "cellMetadata": {},
     "inputWidgets": {},
     "nuid": "83db5383-9543-4e71-ac9d-982b8f499e94",
     "showTitle": false,
     "title": ""
    }
   },
   "outputs": [],
   "source": [
    "class Extractor:\n",
    "    \"\"\"\n",
    "    Abstract class \n",
    "    \"\"\"\n",
    "\n",
    "    def __init__(self):\n",
    "        pass\n",
    "    def extract(self):\n",
    "        pass\n",
    "\n",
    "class Task1Extractor(Extractor):\n",
    "\n",
    "    def extract(self):\n",
    "        animesInputDF = get_data_source(\"delta\",\"anime_cleaned_1_csv\").get_data_frame()\n",
    "        animesInputDF.show()\n",
    "        return animesInputDF\n",
    "\n",
    "class Task2Extractor(Extractor):\n",
    "\n",
    "    def extract(self):\n",
    "        animesInputDF = get_data_source(\"delta\",\"anime_cleaned_1_csv\").get_data_frame()\n",
    "        animesInputDF.show()\n",
    "        return animesInputDF\n",
    "\n",
    "class Task3Extractor(Extractor):\n",
    "\n",
    "    def extract(self):\n",
    "        animesInputDF = get_data_source(\"delta\",\"anime_cleaned_1_csv\").get_data_frame()\n",
    "        animesInputDF.show()\n",
    "        return animesInputDF\n",
    "\n",
    "class Task4Extractor(Extractor):\n",
    "\n",
    "    def extract(self):\n",
    "        reviewsInputDF = get_data_source(\"delta\",\"animelists_cleaned_shorter_csv\").get_data_frame()\n",
    "        animesInputDF = get_data_source(\"delta\",\"anime_cleaned_1_csv\").get_data_frame()\n",
    "        animesInputDF.show()\n",
    "        reviewsInputDF.show()\n",
    "        inputsDF = {\"Anime\": animesInputDF, \"Review\": reviewsInputDF}\n",
    "        return inputsDF"
   ]
  }
 ],
 "metadata": {
  "application/vnd.databricks.v1+notebook": {
   "dashboards": [],
   "environmentMetadata": null,
   "language": "python",
   "notebookMetadata": {
    "pythonIndentUnit": 4
   },
   "notebookName": "extractor",
   "widgets": {}
  }
 },
 "nbformat": 4,
 "nbformat_minor": 0
}
